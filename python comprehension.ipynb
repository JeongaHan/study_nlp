{
 "cells": [
  {
   "cell_type": "code",
   "execution_count": 5,
   "metadata": {},
   "outputs": [],
   "source": [
    "import pandas as pd\n",
    "from math import log"
   ]
  },
  {
   "cell_type": "code",
   "execution_count": 6,
   "metadata": {},
   "outputs": [],
   "source": [
    "docs = [\"먹고 싶은 사과\" , '먹고 싶은 바나나', '길고 노란 바나나 바나나', '저는 과일이 좋아요']\n",
    "vocab = list(set(w for doc in docs for w in doc.split()))"
   ]
  },
  {
   "cell_type": "code",
   "execution_count": 10,
   "metadata": {},
   "outputs": [
    {
     "data": {
      "text/plain": [
       "[0, 2, 4, 6, 8, 10, 12, 14, 16, 18, 20]"
      ]
     },
     "execution_count": 10,
     "metadata": {},
     "output_type": "execute_result"
    }
   ],
   "source": [
    "evens = [x * 2 for x in range(11)]\n",
    "evens"
   ]
  },
  {
   "cell_type": "code",
   "execution_count": 11,
   "metadata": {},
   "outputs": [
    {
     "data": {
      "text/plain": [
       "[1.0587155963302752,\n",
       " 1.0220183486238532,\n",
       " 1.1761467889908257,\n",
       " 1.0770642201834861,\n",
       " 1.0587155963302752,\n",
       " 1.1706422018348623,\n",
       " 1.0568807339449542,\n",
       " 1.0422018348623854,\n",
       " 1.1192660550458715,\n",
       " 1.0788990825688074,\n",
       " 1.1394495412844037]"
      ]
     },
     "execution_count": 11,
     "metadata": {},
     "output_type": "execute_result"
    }
   ],
   "source": [
    "vals = [32,12,96,42,32,93,31,23,65,43,76]\n",
    "amount = sum(vals)\n",
    "norm_and_move = [(x/amount)+1 for x in vals]\n",
    "norm_and_move"
   ]
  },
  {
   "cell_type": "code",
   "execution_count": 14,
   "metadata": {},
   "outputs": [
    {
     "name": "stdout",
     "output_type": "stream",
     "text": [
      "[2, 3, 5, 6, 7, 8, 10, 12, 13, 15, 18, 19, 20, 23, 24, 26, 28, 29, 31, 32, 37, 38, 40, 43, 45, 48, 50, 51, 52, 58, 59, 60, 61, 63, 65, 66, 72, 73, 75, 76, 77, 78, 80, 82, 87, 89, 92, 94, 95, 96, 97]\n"
     ]
    }
   ],
   "source": [
    "from math import sqrt\n",
    "non_squars = [x for x in range(101) if sqrt(x)**2 != x]\n",
    "print(non_squars)"
   ]
  },
  {
   "cell_type": "code",
   "execution_count": 15,
   "metadata": {
    "scrolled": true
   },
   "outputs": [
    {
     "name": "stdout",
     "output_type": "stream",
     "text": [
      "[('sweet', 'john'), ('sweet', 'alice'), ('sweet', 'james'), ('annoying', 'john'), ('annoying', 'alice'), ('annoying', 'james'), ('cool', 'john'), ('cool', 'alice'), ('cool', 'james'), ('grey-eyed', 'john'), ('grey-eyed', 'alice'), ('grey-eyed', 'james')]\n"
     ]
    }
   ],
   "source": [
    "epithets = ['sweet','annoying','cool','grey-eyed']\n",
    "names = ['john','alice','james']\n",
    "epithet_names = [(e,n) for e in epithets for n in names]\n",
    "print(epithet_names)"
   ]
  },
  {
   "cell_type": "code",
   "execution_count": 16,
   "metadata": {},
   "outputs": [
    {
     "name": "stdout",
     "output_type": "stream",
     "text": [
      "[(3, 4, 5), (5, 12, 13), (6, 8, 10), (7, 24, 25), (8, 15, 17), (9, 12, 15), (10, 24, 26), (12, 16, 20), (15, 20, 25), (20, 21, 29)]\n"
     ]
    }
   ],
   "source": [
    "solutions = [(x,y,z) for x in range(1,30) for y in range(x,30) for z in range(y,30) if x **2 + y**2 == z**2]\n",
    "print(solutions)"
   ]
  },
  {
   "cell_type": "code",
   "execution_count": 17,
   "metadata": {},
   "outputs": [
    {
     "name": "stdout",
     "output_type": "stream",
     "text": [
      "mthmtcs\n"
     ]
    }
   ],
   "source": [
    "word = 'mathematics'\n",
    "witout_vowels = ''.join([c for c in word if c not in ['a','e','i','o','u']])\n",
    "print(witout_vowels)"
   ]
  },
  {
   "cell_type": "code",
   "execution_count": 18,
   "metadata": {},
   "outputs": [
    {
     "name": "stdout",
     "output_type": "stream",
     "text": [
      "[1, 2, 3, 4, 5, 6, 7, 8, 9, 10, 11, 12]\n"
     ]
    }
   ],
   "source": [
    "matrix = [[1,2,3,4],[5,6,7,8],[9,10,11,12]]\n",
    "flatten = [e for r in matrix for e in r]\n",
    "print(flatten)"
   ]
  },
  {
   "cell_type": "code",
   "execution_count": 19,
   "metadata": {},
   "outputs": [
    {
     "name": "stdout",
     "output_type": "stream",
     "text": [
      "[4, 6, 8, 10, 12, 14, 16, 18, 20, 22, 24, 26, 28, 30, 32, 34, 36, 38, 40, 42, 44, 46, 48, 6, 9, 12, 15, 18, 21, 24, 27, 30, 33, 36, 39, 42, 45, 48, 8, 12, 16, 20, 24, 28, 32, 36, 40, 44, 48, 10, 15, 20, 25, 30, 35, 40, 45, 12, 18, 24, 30, 36, 42, 48, 14, 21, 28, 35, 42, 49, 16, 24, 32, 40, 48]\n"
     ]
    }
   ],
   "source": [
    "no_primes = [j for i in range(2,9) for j in range(i*2,50,i)]\n",
    "print(no_primes)"
   ]
  },
  {
   "cell_type": "code",
   "execution_count": 20,
   "metadata": {},
   "outputs": [
    {
     "name": "stdout",
     "output_type": "stream",
     "text": [
      "{4, 6, 8, 9, 10, 12, 14, 15, 16, 18, 20, 21, 22, 24, 25, 26, 27, 28, 30, 32, 33, 34, 35, 36, 38, 39, 40, 42, 44, 45, 46, 48, 49}\n"
     ]
    }
   ],
   "source": [
    "no_primes = {j for i in range(2,9) for j in range(i*2,50,i)}\n",
    "print(no_primes)"
   ]
  },
  {
   "cell_type": "code",
   "execution_count": 21,
   "metadata": {},
   "outputs": [
    {
     "name": "stdout",
     "output_type": "stream",
     "text": [
      "{'math': 90, 'history': 80, 'english': 95, 'computer engineering': 100}\n"
     ]
    }
   ],
   "source": [
    "subjects = ['math','history','english','computer engineering']\n",
    "scores = [90, 80, 95, 100]\n",
    "score_dict = {key:value for key, value in zip(subjects, scores)}\n",
    "print(score_dict)"
   ]
  },
  {
   "cell_type": "code",
   "execution_count": 22,
   "metadata": {},
   "outputs": [
    {
     "name": "stdout",
     "output_type": "stream",
     "text": [
      "{'math': 90, 'history': 80, 'english': 95, 'computer engineering': 100}\n"
     ]
    }
   ],
   "source": [
    "score_tuples = [('math',90),('history',80),('english',95),('computer engineering',100)]\n",
    "score_dict = {t[0]: t[1] for t in score_tuples}\n",
    "print(score_dict)"
   ]
  },
  {
   "cell_type": "code",
   "execution_count": 23,
   "metadata": {},
   "outputs": [
    {
     "name": "stdout",
     "output_type": "stream",
     "text": [
      "<generator object <genexpr> at 0x000001B5321E4A48>\n"
     ]
    }
   ],
   "source": [
    "gen = (x**2 for x in range(10))\n",
    "print(gen)"
   ]
  },
  {
   "cell_type": "code",
   "execution_count": 36,
   "metadata": {},
   "outputs": [
    {
     "name": "stdout",
     "output_type": "stream",
     "text": [
      "285\n"
     ]
    }
   ],
   "source": [
    "gen = (x**2 for x in range(10))\n",
    "sum_of_squares = sum(gen)\n",
    "print(sum_of_squares)"
   ]
  }
 ],
 "metadata": {
  "kernelspec": {
   "display_name": "study_nlp",
   "language": "python",
   "name": "study_nlp"
  },
  "language_info": {
   "codemirror_mode": {
    "name": "ipython",
    "version": 3
   },
   "file_extension": ".py",
   "mimetype": "text/x-python",
   "name": "python",
   "nbconvert_exporter": "python",
   "pygments_lexer": "ipython3",
   "version": "3.7.9"
  }
 },
 "nbformat": 4,
 "nbformat_minor": 4
}
